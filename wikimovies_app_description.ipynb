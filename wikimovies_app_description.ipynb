{
 "cells": [
  {
   "cell_type": "code",
   "execution_count": null,
   "id": "08e0fb82",
   "metadata": {},
   "outputs": [],
   "source": [
    "The following exercise is intended to evaluate ML engineering and coding skills \n",
    "\n",
    "The solution can be submitted in a mix of the following languages: Python, shell script. \n",
    "    Other languages should be discussed with the hiring manager before submission.\n",
    "\n",
    "Please include a copy of your code as well as a short report (pdf or docx) describing your approach \n",
    "as well as including snapshots of the results for the final submission.\n",
    "\n",
    "Please note that this exercise can be completed using only your local computer and free resources. \n",
    "You are not expected to pay for any services or resources.\n",
    "\n",
    "The goal of this exercise is to provide a tool for a user to get a summary of Wikipedia movie data.\n",
    "\n",
    "As input data, you will have access to the following movie dataset, in json format:\n",
    "\n",
    "https://raw.githubusercontent.com/prust/wikipedia-movie-data/master/movies.json\n",
    "\n",
    "Task: Complete the following steps:\n",
    "\n",
    "Step 1: Load the json file into a Pandas dataframe\n",
    "\n",
    "Step 2: Generate a table showing the number of movies made in each year.\n",
    "\n",
    "Step 3: Generate a dictionary which maps each genre to a list of movies. You can ignore the movies with missing genres.\n",
    "\n",
    "Step 4: Find all actors/actresses who were in a 2018 drama movie. Implement this function using Spark. You can run Spark on your laptop in local mode.\n",
    "\n",
    "Step 5: Dockerize your solution, capturing all dependencies. You should provide instructions for running your solution.\n",
    "\n",
    "Step 6: Upload your image to ECR Public and provide a download link in your solution. This link is in addition to your code and result snapshots.(ECR storage should be within the AWS free tier)\n",
    "\n",
    "You can use any open source library. Please write your code in the form of functions. In case of using an uncommon library, include instructions for installation."
   ]
  },
  {
   "cell_type": "markdown",
   "id": "981e929d",
   "metadata": {},
   "source": [
    "# WikiMovies Streamlit (mini)App\n",
    "\n",
    "## a tool for a user to get a summary of the Wikipedia movie data."
   ]
  },
  {
   "cell_type": "markdown",
   "id": "163c3536",
   "metadata": {},
   "source": [
    "### introduction\n",
    "\n",
    "The following is a description of a small & simple streamlit app meant to serve as a tool for a user to explore the [Wikipedia Movies dataset](https://raw.githubusercontent.com/prust/wikipedia-movie-data/master/movies.json). Code and supporting files can be found in my [WikiMovies_slapp github repo](https://github.com/SmilodonCub/WikiMovies_slapp)."
   ]
  },
  {
   "cell_type": "markdown",
   "id": "c50c549c",
   "metadata": {},
   "source": [
    "### app.py\n",
    "\n",
    "The python script `app.py` performs several tasks..."
   ]
  },
  {
   "cell_type": "markdown",
   "id": "efd8ceea",
   "metadata": {},
   "source": [
    "#### Step 1\n",
    "\n",
    "First, the data is loaded into the working environment as a pandas DataFrame"
   ]
  },
  {
   "cell_type": "markdown",
   "id": "384df2bd",
   "metadata": {},
   "source": [
    "#### Step 2\n",
    "\n",
    "the first section of the app generates a dictionary which maps each genre to a list of movies. "
   ]
  }
 ],
 "metadata": {
  "kernelspec": {
   "display_name": "Python 3 (ipykernel)",
   "language": "python",
   "name": "python3"
  },
  "language_info": {
   "codemirror_mode": {
    "name": "ipython",
    "version": 3
   },
   "file_extension": ".py",
   "mimetype": "text/x-python",
   "name": "python",
   "nbconvert_exporter": "python",
   "pygments_lexer": "ipython3",
   "version": "3.7.7"
  }
 },
 "nbformat": 4,
 "nbformat_minor": 5
}
