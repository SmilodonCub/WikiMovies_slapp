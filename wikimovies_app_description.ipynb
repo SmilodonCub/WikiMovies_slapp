{
 "cells": [
  {
   "cell_type": "markdown",
   "id": "06e1823f",
   "metadata": {},
   "source": [
    "# WikiMovies Streamlit (mini)App\n",
    "\n",
    "## a tool for a user to get a summary of the Wikipedia movie data."
   ]
  },
  {
   "cell_type": "markdown",
   "id": "e6b5f264",
   "metadata": {},
   "source": [
    "### introduction\n",
    "\n",
    "The following is a description of a small & simple streamlit app meant to serve as a tool for a user to explore the [Wikipedia Movies dataset](https://raw.githubusercontent.com/prust/wikipedia-movie-data/master/movies.json). Code and supporting files can be found in my [WikiMovies_slapp github repo](https://github.com/SmilodonCub/WikiMovies_slapp)."
   ]
  },
  {
   "cell_type": "markdown",
   "id": "5ea471b1",
   "metadata": {},
   "source": [
    "### app.py\n",
    "\n",
    "The python script `app.py` performs several tasks..."
   ]
  },
  {
   "cell_type": "markdown",
   "id": "491da6d3",
   "metadata": {},
   "source": [
    "#### Step 1\n",
    "\n",
    "First, the data is loaded into the working environment as a pandas DataFrame"
   ]
  },
  {
   "cell_type": "markdown",
   "id": "14c98790",
   "metadata": {},
   "source": [
    "#### Step 2\n",
    "\n",
    "the first section of the app generates a table showing the number of movies made in each year. the table is interactive, so the user is can view results for any year of interest. Additionally, there is a line plot to the left of the figure to summarize the number of movies released each year.\n",
    "\n",
    "<img src=\"https://raw.githubusercontent.com/SmilodonCub/WikiMovies_slapp/master/assets/movies_by_year.png\" width=\"75%\" style=\"margin-left:auto; margin-right:auto\">"
   ]
  },
  {
   "cell_type": "markdown",
   "id": "476401a5",
   "metadata": {},
   "source": [
    "#### Step 3 \n",
    "\n",
    "The next section of the app helps the user explore movies organized by genre.\n",
    "* the upper left is a scrollable table with the number of movies for each genre\n",
    "* the upper right is a bar chart to summarize the table\n",
    "* the bottom panel has an interactive selection box. the user can select a genre of interest and explore a listing of the movie titles in the selected genre\n",
    "\n",
    "These results are pulled from a Python dictionary that maps genres to the corresponding list of movies as key:value pairs. This is performed from the helper function `dict_moviesbygenre()` in `app.py`\n",
    "\n",
    "\n",
    "<img src=\"https://raw.githubusercontent.com/SmilodonCub/WikiMovies_slapp/master/assets/movies_by_genre.png\" width=\"75%\" style=\"margin-left:auto; margin-right:auto\">"
   ]
  },
  {
   "cell_type": "markdown",
   "id": "b4534748",
   "metadata": {},
   "source": [
    "The final section of the app helps the user explore actors and actresses organized by genre.\n",
    "* at the top there a two selection boxes for the user to select a year and genre of interest\n",
    "* the bottom left presents a scrollable table for the user to see the number of actors/actresses (without duplication) for each genre for the year the user has selected.\n",
    "* to the right of the table is an interactive list of actors and actresses for the selected year and genre\n",
    "* the default values are\n",
    "    - `year`:2018\n",
    "    - `genre`:'Drama'\n",
    "\n",
    "These results are pulled from a Python dictionary that maps genres (for a selected year) to the corresponding list of actors and actresses as key:value pairs. This is performed from the helper function `dict_actbygenre()` in `app.py`\n",
    "\n",
    "<img src=\"https://raw.githubusercontent.com/SmilodonCub/WikiMovies_slapp/master/assets/act_by_genre.png\" width=\"75%\" style=\"margin-left:auto; margin-right:auto\">"
   ]
  },
  {
   "cell_type": "markdown",
   "id": "293488da",
   "metadata": {},
   "source": [
    "### Access\n",
    "\n",
    "The app has been containerized with Docker and pushed to a public ECR repo on AWS.  \n",
    "\n",
    "ECR URI: public.ecr.aws/d4s3j3a6/wikimovies:latest  \n",
    "\n",
    "Once the image has been pulled, the following command should run the streamlit app exposed on port 8501:  \n",
    "\n",
    "        sudo docker run -p 8501:8501 wikimovies:latest\n",
    "\n",
    "\n",
    "<br><br>"
   ]
  },
  {
   "cell_type": "markdown",
   "id": "9f6cb8ca",
   "metadata": {},
   "source": [
    "## <span style=\"color:red\">**NOTE**</span>\n",
    "\n",
    "the instructions ask for the Step #4 to be implemented with Spark. Spark was not utilized by `app.py`, so this will be prepared and delivered seperately.\n",
    "\n",
    "<br><br>"
   ]
  }
 ],
 "metadata": {
  "kernelspec": {
   "display_name": "Python 3 (ipykernel)",
   "language": "python",
   "name": "python3"
  },
  "language_info": {
   "codemirror_mode": {
    "name": "ipython",
    "version": 3
   },
   "file_extension": ".py",
   "mimetype": "text/x-python",
   "name": "python",
   "nbconvert_exporter": "python",
   "pygments_lexer": "ipython3",
   "version": "3.7.7"
  }
 },
 "nbformat": 4,
 "nbformat_minor": 5
}
